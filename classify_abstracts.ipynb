{
 "cells": [
  {
   "cell_type": "code",
   "execution_count": 12,
   "metadata": {
    "collapsed": false
   },
   "outputs": [
    {
     "data": {
      "text/plain": [
       "35944"
      ]
     },
     "execution_count": 12,
     "metadata": {},
     "output_type": "execute_result"
    }
   ],
   "source": [
    "import os\n",
    "import pandas as pd\n",
    "import re\n",
    "from sklearn.feature_extraction.text import CountVectorizer\n",
    "from sklearn.feature_extraction import text\n",
    "from sklearn.linear_model import LogisticRegression\n",
    "from sklearn.ensemble import RandomForestClassifier\n",
    "from sklearn import metrics\n",
    "from string import punctuation\n",
    "import numpy as np\n",
    "import random\n",
    "\n",
    "DATASET = \"lpi\"\n",
    "\n",
    "sourceDir = 'PLoS_One/'\n",
    "fileList = os.listdir(sourceDir)\n",
    "len(fileList)\n",
    "\n",
    "abstractFile = \"abstracts_data/pubmed_ecology_abstracts.txt\"\n",
    "with open(abstractFile) as f:\n",
    "    negatives = ' '.join([line.strip() for line in f])\n",
    "negatives = [paragraph for paragraph in negatives.split('  ') if len(paragraph) > 300]\n",
    "random.shuffle(negatives)\n",
    "len(negatives)"
   ]
  },
  {
   "cell_type": "code",
   "execution_count": 18,
   "metadata": {
    "collapsed": false
   },
   "outputs": [
    {
     "data": {
      "text/plain": [
       "691"
      ]
     },
     "execution_count": 18,
     "metadata": {},
     "output_type": "execute_result"
    }
   ],
   "source": [
    "if DATASET.lower() == \"predicts\":\n",
    "    df = pd.read_csv('abstracts_data/unique_id_fields.csv')\n",
    "    positives = list(df['Abstract'].dropna())\n",
    "    positives = [item.lower().replace('abstract', '').replace('unavailable','').strip() for item in positives]\n",
    "elif DATASET.lower() == \"lpi\":\n",
    "    with open(\"abstracts_data/lpi_abstracts.txt\") as f:\n",
    "        positives = []\n",
    "        for line in f:\n",
    "            if line.strip():\n",
    "                positives.append(line.strip().lower().replace(\"abstract\",\"\"))\n",
    "len(positives)"
   ]
  },
  {
   "cell_type": "code",
   "execution_count": 19,
   "metadata": {
    "collapsed": false
   },
   "outputs": [],
   "source": [
    "def split_data(ids, docs, successes, perc_train, shuffle_data):\n",
    "    \"\"\"Split the document and classification data into training and testing sets.\"\"\"\n",
    "\n",
    "    ndx_shuffle = list(range(len(docs)))\n",
    "    # Shuffle lists\n",
    "    if shuffle_data:\n",
    "        random.shuffle(ndx_shuffle)\n",
    "\n",
    "    num_train = int(len(docs) * perc_train)\n",
    "    docs_train = [docs[i].lower() for i in ndx_shuffle[:num_train]]\n",
    "    docs_test = [docs[i].lower() for i in ndx_shuffle[num_train:]]\n",
    "    successes_train = [successes[i] for i in ndx_shuffle[:num_train]]\n",
    "    successes_test = [successes[i] for i in ndx_shuffle[num_train:]]\n",
    "    ids_train = [ids[i] for i in ndx_shuffle[:num_train]]\n",
    "    ids_test = [ids[i] for i in ndx_shuffle[num_train:]]\n",
    "\n",
    "    return ids_train, ids_test, docs_train, docs_test, successes_train, successes_test\n",
    "\n",
    "\n",
    "def rm_punctuation(string, replacement='', exclude=\"'-'\"):\n",
    "    \"\"\"Remove punctuation from an input string \"\"\"\n",
    "    string = string.replace('-', ' ')  # Always replace hyphen with space\n",
    "    for p in set(list(punctuation)) - set(list(exclude)):\n",
    "        string = string.replace(p, replacement)\n",
    "\n",
    "    string = ' '.join(string.split())  # Remove excess whitespace\n",
    "    return string\n",
    "\n",
    "def train_classifier(\n",
    "        docs_success,\n",
    "        docs_background,\n",
    "        perc_train=0.7,\n",
    "        shuffle_data=True,\n",
    "        ngram_range=(1, 1),\n",
    "        filter_params={},\n",
    "        limit_data=None\n",
    "):\n",
    "    \"\"\"\n",
    "    Train a classifier given the classification data in input_file.\n",
    "\n",
    "    @param perc_train: percentage of data points to train from input file (between 0 and 1). 0.4 by default.\n",
    "    @param shuffle_data: whether to shuffle the input data before training. True by default.\n",
    "    @return: the keywords and their corresponding coefficients as ndarrays, sorted by coefficient value.\n",
    "    \"\"\"\n",
    "\n",
    "    docs = docs_success + docs_background\n",
    "    successes = [1 for i in range(len(docs_success))] + [0 for j in range(len(docs_background))]\n",
    "    ids = range(len(docs))\n",
    "\n",
    "    # Remove punctuation from docs\n",
    "    docs = [rm_punctuation(str(_)) for _ in docs]\n",
    "\n",
    "    # Split data into training and test sets\n",
    "    ids_train, ids_test, docs_train, docs_test, y_train, y_test = \\\n",
    "        split_data(ids, docs, successes, perc_train, shuffle_data)\n",
    "\n",
    "    # Initialise vectorizer to convert text documents into matrix of token counts\n",
    "    vect = CountVectorizer(min_df=2, ngram_range=ngram_range, stop_words='english')\n",
    "    # Extract features from training dataset using sparse vectorizer\n",
    "    X_train = vect.fit_transform(docs_train)\n",
    "    print(\"LENGTH OF TEST DOCS\",len(docs_test))\n",
    "\n",
    "    # Logistic regression classifier\n",
    "    lr_classifier = LogisticRegression(penalty='l2').fit(X_train, y_train)\n",
    "\n",
    "    def get_top_feats(feature_names, classifier, plot=True, N=10, bar_height=0.5):\n",
    "        \"\"\"Sort keywords by their coefficients\"\"\"\n",
    "        sorted_feats = np.argsort(classifier.coef_[0])  # Sorted by coefficients (descending)\n",
    "        sorted_coeffs = classifier.coef_[0][sorted_feats]\n",
    "\n",
    "        return sorted_feats, sorted_coeffs\n",
    "\n",
    "    features = np.array(vect.get_feature_names())\n",
    "    feat_ids, coeffs = get_top_feats(features, lr_classifier, plot=False, N=20)\n",
    "\n",
    "    if len(docs_test) > 0:\n",
    "        X_test = vect.transform(docs_test)\n",
    "        # Predict test data\n",
    "        y_test_predicted = lr_classifier.predict(X_test)\n",
    "\n",
    "        print('Classifier has precision %.3f and recall %.3f' % \\\n",
    "            (metrics.precision_score(y_test, y_test_predicted),\n",
    "            metrics.recall_score(y_test, y_test_predicted)))\n",
    "\n",
    "        # Examples of misclassified positives/negatives\n",
    "        positive_misses = [docs_test[i] for i in range(len(docs_test)) if (y_test[i] and not y_test_predicted[i])]\n",
    "        negative_misses = [docs_test[i] for i in range(len(docs_test)) if (not y_test[i] and y_test_predicted[i])]\n",
    "\n",
    "        print('\\nSome positive misses:')\n",
    "\n",
    "        for i in range(5):\n",
    "            try:\n",
    "                print(str(i+1) + ') ' + positive_misses[i] + \"\\n\")\n",
    "            except IndexError:\n",
    "                break\n",
    "\n",
    "        print('\\nSome negative misses:')\n",
    "        for i in range(5):\n",
    "            try:\n",
    "                print(str(i+1) + ') ' + negative_misses[i] + \"\\n\")\n",
    "            except IndexError:\n",
    "                break\n",
    "        print('')\n",
    "\n",
    "    return features[feat_ids], coeffs, lr_classifier, vect"
   ]
  },
  {
   "cell_type": "code",
   "execution_count": 20,
   "metadata": {
    "collapsed": false
   },
   "outputs": [
    {
     "name": "stdout",
     "output_type": "stream",
     "text": [
      "('LENGTH OF TEST DOCS', 808)\n",
      "Classifier has precision 0.904 and recall 0.923\n",
      "\n",
      "Some positive misses:\n",
      "1) interactions between density dependent and density independent processes can lead to variation in both growth and survival rates detecting such effects however will often require sampling on an individual level and at the appropriate spatial and temporal scale this study documents substantial variation in survival and growth of stream dwelling brown trout salmo trutta from a small norwegian stream the data is based on seasonal capture2013recaptures of individually marked trout on fixed stations during eight years the fish were small sized rarely reaching sizes larger than 20 cm and ages older than seven years density varied between 02201308 fish m22122 variation in survival and recapture probabilities was analysed using program mark apparent survival the probability of being alive and present within the study area generally decreased with increasing trout density and increasing drought level measured as lowest observed water flow during both winter and summer further there was a significant interaction effect between density and water flow indicating that density dependent effects on survival predominated when environmental conditions were benign no drought while density independent processes were most important under harsh environmental conditions drought observed length at age during autumn indicated a more or less linear growth trajectory throughout life and no effect of density water flow or temperature was found however using the individual based capture2013recapture data to estimated specific growth rate significant positive effects of water flow and temperature and a negative effect of density were identified thus the capture2013recapture data suggest a strong potential for population regulation at the rather low densities found in this stream and regulation may occur both through effects on survival and growth\n",
      "2) the possible effects that marine reserve protection has had on densities of some reef fish and large invertebrates were investigated near leigh northeastern new zealand by a series of sampling programmes between 1976 and 1988 fish counts at intervals during the 6 years after the initial establishment of the cape rodney to okakari point marine reserve in 1975 suggested that red moki cheilodactylus spectabilis had increased in abundance whereas five others had remained at approximately constant densities a comparison of data between 1978 and 1988 also revealed few consistent differences in fish abundances a detailed survey in 1988 between sites inside and outside the marine reserve showed no clear patterns for sea urchins evechinus chloroticus and several fish trends for increased abundances in the marine reserve of fish such as snapper pagrus chrysophrys auratus blue cod parapercis colias and red moki a very striking increase in numbers of rock lobsters jasus edwardsii within the marine reserve and an obvious trend for increased size of snapper in the marine reserve most of the trends however were not statistically significant owing largely to the low power of the tests used although it is now generally accepted that the creation of marine reserves such as the one at leigh results in increased abundances of certain organisms our study highlights the difficulty of rigorously demonstrating this especially for patchily distributed and mobile fish speciesn the possible effects that marine reserve protection has had on densities of some reef fish and large invertebrates were investigated near leigh northeastern new zealand by a series of sampling programmes between 1976 and 1988 fish counts at intervals during the 6 years after the initial establishment of the cape rodney to okakari point marine reserve in 1975 suggested that red moki cheilodactylus spectabilis had increased in abundance whereas five others had remained at approximately constant densities a comparison of data between 1978 and 1988 also revealed few consistent differences in fish abundances a detailed survey in 1988 between sites inside and outside the marine reserve showed no clear patterns for sea urchins evechinus chloroticus and several fish trends for increased abundances in the marine reserve of fish such as snapper pagrus chrysophrys auratus blue cod parapercis colias and red moki a very striking increase in numbers of rock lobsters jasus edwardsii within the marine reserve and an obvious trend for increased size of snapper in the marine reserve most of the trends however were not statistically significant owing largely to the low power of the tests used although it is now generally accepted that the creation of marine reserves such as the one at leigh results in increased abundances of certain organisms our study highlights the difficulty of rigorously demonstrating this especially for patchily distributed and mobile fish species\n",
      "3) penguins are adapted to live in extreme environments but they can be highly sensitive to climate change which disrupts penguin life history strategies when it alters the weather oceanography and critical habitats for example in the southwest atlantic the distributional range of the ice obligate emperor and ad�lie penguins has shifted poleward and contracted while the ice intolerant gentoo and chinstrap penguins have expanded their range southward in the southern ocean the el ni�o southern oscillation and the southern annular mode are the main modes of climate variability that drive changes in the marine ecosystem ultimately affecting penguins the interaction between these modes is complex and changes over time so that penguin responses to climate change are expected to vary accordingly complicating our understanding of their future population processes penguins have long life spans which slow microevolution and which is unlikely to increase their tolerance to rapid warming therefore in order that penguins may continue to exploit their transformed ecological niche and maintain their current distributional ranges they must possess adequate phenotypic plasticity however past species specific adaptations also constrain potential changes in phenology and are unlikely to be adaptive for altered climatic conditions thus the paleoecological record suggests that penguins are more likely to respond by dispersal rather than adaptation ecosystem changes are potentially most important at the borders of current geographic distributions where penguins operate at the limits of their tolerance species with low adaptability particularly the ice obligates may therefore be more affected by their need to disperse in response to climate and may struggle to colonize new habitats while future sea ice contraction around antarctica is likely to continue affecting the ice obligate penguins understanding the responses of the ice intolerant penguins also depends on changes in climate mode periodicities and interactions which to date remain difficult to reproduce in general circulation models\n",
      "4) although it is recognized that many factors interact to cause extinctions it is difficult to consider multiple factors when investigating species declines i conducted a post hoc exploration of the major hypotheses for the decline of the allegheny woodrat neotoma magister incorporated the historical environmental changes that accompanied and preceded the decline and considered how these events may have affected the specieswhat emerges is a complicated picture involving multiple relatively minor stressors all attributable to human activities the temporal pattern of the decline is most coherent when considered from a historical perspectiveamong the factors that are likely to have affected allegheny woodrats are two exotic tree pathogens a native parasite the proliferation of human adapted competitors and habitat fragmentation in addition changes in competitive and predatory regimes appear to have influenced the timing of the collapse although the historic record cannot give definitive answers taking a synthetic historical– ecological approach can enhance understanding of species declines\n",
      "5) this paper describes the density fluctuations of the adder vipera berus and its prey during seven years the reproduction during high adder density and low food availability was compared with that seven years later in the same population during low adder density and high food availability female length was similar but weight status masslength 256 was significantly higher during high prey density female mass loss when giving birth and clutch mass were significantly higher during high availa bility of food but relative clutch mass and relative mass loss were similar in the two situations however the variance in relative clutch mass was significantly lower with high prey density clutch size and mass per young were significantly higher during high prey density during high food availability there were significant positive correlations between female length age and birth mass loss female length and clutch mass female length and clutch size clutch mass and mass per young and between relative clutch mass and mass per young during low food availability there were significant positive correlations between clutch mass and clutch size and relative clutch mass and clutch size a significant negative correlation was found between female length and relative mass loss this study do not conform entirely to general theories on reproductive adaptations to varying food availability r k strategies during high prey density both more and heavier young were produced than during scarcity of food a high correlation of reproductive parameters during high food availability indi cates a maximal utilization of reproductive capacity in most females while the lack of such correlations during low food availability indicates a varying access to food and fat storage possibility among females\n",
      "\n",
      "Some negative misses:\n",
      "1) the authors characterize the annual cycle of an pulcherrimus population distinguish the stages of this cycle that differ by the population composition and number and by the size of its area the spatial structure of the population depends on the site of water bodies for wintering and the conditions at different territories high numbers of mosquitoes were found in the southern part of the oasis at villages of rice growing farmers mosquito population densities in the central parts of the oasis are much lower and are increased nearby sandy islets\n",
      "2) once a month from june 1992 to may 1993 collections of tabanids on horse were conducted in the nhecolândia pantanal state of mato grosso do sul brazil tabanid catches using hand nets were conducted from sunrise to sunset at grassland and cerradão dense savanna habitats a total of 3442 tabanids from 21 species12 genera and 3 subfamilies were collected although species abundance varied seasonally depending on habitat no habitat specificity was observed for the most abundant species in the grassland 1625 472 tabanids belonging to 19 species were collected while 1817 528 tabanids from 17 species were caught in the cerradão the number of tabanid species varied from 7 during winter julyaugust to 15 in the spring october tabanus importunus 56 was the most abundant species followed by t occidentalis 82 and t claripennis 81 the tabanid peak in october coincided with the beginning of the rainy season the population peak of most species including those with higher vector potential suggests that the rainy season can be considered as the period of potentially higher risk of mechanical transmission of pathogens by tabanids to horses in the region\n",
      "3) we use partial differential equation models to examine the effects of cross edge incursions by a predator on the persistence or extinction of a patch resident prey species for each of two predator incursion profiles namely a constant incursion distance and a constant loss rate for predators during incursions we examine the conditions under which the predator can and cannot influence the critical patch size of a prey species\n",
      "4) predicting species' responses to the combined effects of habitat and climate changes has become a major challenge in ecology and conservation biology however the effects of climatic and habitat gradients on species distributions have generally been considered separately here we explore the relationships between the habitat and thermal dimensions of the ecological niche in european common birds using data from the french breeding bird survey a large scale bird monitoring program we correlated the habitat and thermal positions and breadths of 74 bird species controlling for life history traits and phylogeny we found that cold climate species tend to have niche positions in closed habitats as expected by the conjunction of the biogeographic history of birds' habitats and their current continent scale gradients we also report a positive correlation between thermal and habitat niche breadths a pattern consistent with macroecological predictions concerning the processes shaping species' distributions our results suggest that the relationships between the climatic and habitat components of the niche have to be taken into account to understand and predict changes in species' distributions\n",
      "5) a hydrodynamic oyster population model was developed to assess the effect of changes in freshwater inflow on oyster populations in galveston bay texas usa the population model includes the effects of environmental conditions predators and the oyster parasite perkinsus marinus on oyster populations the hydrodynamic model includes the effects of wind stress river runoff tides and oceanic exchange on the circulation of the bay simulations were run for low mean and high freshwater inflow conditions under the present 1993 hydrology and predicted hydrologies for 2024 and 2049 that include both changes in total freshwater inflow and diversions of freshwater from one primary drainage basin to another freshwater diversion to supply the houston metropolitan area is predicted to negatively impact oyster production in galveston bay fecundity and larval survivorship both decline mortality from perkinsus marinus increases but to a lesser extent a larger negative impact in 2049 relative to 2024 originates from the larger drop in fecundity under that hydrology changes in recruitment and mortality resulting in lowered oyster abundance occur because the bay volume available for mixing freshwater input from the san jacinto and buffalo bayou drainage basins that drain metropolitan houston is small in comparison to the volume of trinity bay that presently receives the bulk of the bay's freshwater inflow a smaller volume for mixing results in salinities that decline more rapidly and to a greater extent under conditions of high freshwater dischargethus the decline in oyster abundance results from a disequilibrium between geography and salinity brought about by freshwater diversion although the bay hydrology shifts available hard substrate does not the simulations stress the fact that it is not just the well appreciated reduction in freshwater inflow that can result in decreased oyster production changing the location of freshwater inflow can also significantly impact the bay environment even if the total amount of freshwater inflow does not change\n",
      "\n"
     ]
    }
   ],
   "source": [
    "features, coefficients, model, vect = train_classifier(\n",
    "    positives,\n",
    "    negatives[:2000],\n",
    "    perc_train=.7,\n",
    "    ngram_range=(1, 3)\n",
    ")"
   ]
  },
  {
   "cell_type": "code",
   "execution_count": 21,
   "metadata": {
    "collapsed": false
   },
   "outputs": [
    {
     "name": "stdout",
     "output_type": "stream",
     "text": [
      "\n",
      "Bottom features\n",
      "(u'water', -1.0734414213696826)\n",
      "(u'marine', -0.7186028599392289)\n",
      "(u'development', -0.59525754453001689)\n",
      "(u'different', -0.56760709123299735)\n",
      "(u'health', -0.54651525783593224)\n",
      "\n",
      "Top features\n",
      "(u'pelagic', 0.43212563878315219)\n",
      "(u'conservation', 0.45524629554270968)\n",
      "(u'management', 0.49601911767810392)\n",
      "(u'breeding', 0.57767877349497099)\n",
      "(u'population', 0.65275287021059014)\n"
     ]
    }
   ],
   "source": [
    "print(\"\\nBottom features\")\n",
    "for f,c in list(zip(features,coefficients))[:5]:\n",
    "    print(f,c)\n",
    "    \n",
    "print(\"\\nTop features\")\n",
    "for f,c in list(zip(features,coefficients))[-5:]:\n",
    "    print(f,c)"
   ]
  },
  {
   "cell_type": "code",
   "execution_count": 24,
   "metadata": {
    "collapsed": false
   },
   "outputs": [
    {
     "data": {
      "text/plain": [
       "23"
      ]
     },
     "execution_count": 24,
     "metadata": {},
     "output_type": "execute_result"
    }
   ],
   "source": [
    "def suggest(model,vect):\n",
    "    suggestions = []\n",
    "    for fileName in fileList[:1000]:\n",
    "        with open(os.path.join(sourceDir,fileName)) as f:\n",
    "            if f.readline().strip().lower()=='introduction':\n",
    "                candidate = f.readline()\n",
    "                if len(candidate)>50:\n",
    "                    prediction = model.predict(vect.transform([rm_punctuation(str(candidate))]))\n",
    "                    if prediction[0]:\n",
    "                        suggestions.append(dict(file=fileName, abstract=candidate))\n",
    "    return suggestions\n",
    "suggestions = suggest(model,vect)\n",
    "len(suggestions)"
   ]
  },
  {
   "cell_type": "code",
   "execution_count": 25,
   "metadata": {
    "collapsed": false
   },
   "outputs": [],
   "source": [
    "pd.DataFrame(suggestions).to_csv('suggested_{0}.csv'.format(DATASET.lower()))"
   ]
  },
  {
   "cell_type": "code",
   "execution_count": null,
   "metadata": {
    "collapsed": true
   },
   "outputs": [],
   "source": []
  },
  {
   "cell_type": "code",
   "execution_count": null,
   "metadata": {
    "collapsed": true
   },
   "outputs": [],
   "source": []
  }
 ],
 "metadata": {
  "kernelspec": {
   "display_name": "Python 2",
   "language": "python",
   "name": "python2"
  },
  "language_info": {
   "codemirror_mode": {
    "name": "ipython",
    "version": 2
   },
   "file_extension": ".py",
   "mimetype": "text/x-python",
   "name": "python",
   "nbconvert_exporter": "python",
   "pygments_lexer": "ipython2",
   "version": "2.7.10"
  }
 },
 "nbformat": 4,
 "nbformat_minor": 0
}
