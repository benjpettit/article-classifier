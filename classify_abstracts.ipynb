{
 "cells": [
  {
   "cell_type": "code",
   "execution_count": 56,
   "metadata": {
    "collapsed": false
   },
   "outputs": [
    {
     "data": {
      "text/plain": [
       "35938"
      ]
     },
     "execution_count": 56,
     "metadata": {},
     "output_type": "execute_result"
    }
   ],
   "source": [
    "import os\n",
    "import pandas as pd\n",
    "import re\n",
    "from sklearn.feature_extraction.text import CountVectorizer\n",
    "from sklearn.feature_extraction import text\n",
    "from sklearn.linear_model import LogisticRegression, SGDClassifier\n",
    "from sklearn.ensemble import RandomForestClassifier\n",
    "from sklearn import metrics\n",
    "from string import punctuation\n",
    "import numpy as np\n",
    "import random\n",
    "from sklearn.model_selection import cross_val_score\n",
    "\n",
    "DATASET = \"lpi\"\n",
    "\n",
    "abstractFile = \"abstracts_data/pubmed_ecology_abstracts.txt\"\n",
    "with open(abstractFile) as f:\n",
    "    negatives = ' '.join([line.strip() for line in f])\n",
    "negatives = [paragraph for paragraph in negatives.split('  ') if len(paragraph) > 300]\n",
    "random.shuffle(negatives)\n",
    "len(negatives)"
   ]
  },
  {
   "cell_type": "code",
   "execution_count": 57,
   "metadata": {
    "collapsed": false
   },
   "outputs": [
    {
     "data": {
      "text/plain": [
       "1240"
      ]
     },
     "execution_count": 57,
     "metadata": {},
     "output_type": "execute_result"
    }
   ],
   "source": [
    "if DATASET.lower() == \"predicts\":\n",
    "    df = pd.read_csv('abstracts_data/unique_id_fields.csv')\n",
    "    positives = list(df['Abstract'].dropna())\n",
    "    positives = [item.lower().replace('abstract', '').replace('unavailable','').strip() for item in positives]\n",
    "elif DATASET.lower() == \"lpi\":\n",
    "    with open(\"abstracts_data/lpi_abstracts_updated.txt\") as f:\n",
    "        positives = []\n",
    "        for line in f:\n",
    "            if line.strip():\n",
    "                positives.append(line.strip().lower().replace(\"abstract\",\"\"))\n",
    "len(positives)"
   ]
  },
  {
   "cell_type": "code",
   "execution_count": 58,
   "metadata": {
    "collapsed": false
   },
   "outputs": [],
   "source": [
    "def split_data(ids, docs, successes, perc_train, shuffle_data):\n",
    "    \"\"\"Split the document and classification data into training and testing sets.\"\"\"\n",
    "\n",
    "    ndx_shuffle = list(range(len(docs)))\n",
    "    # Shuffle lists\n",
    "    if shuffle_data:\n",
    "        random.shuffle(ndx_shuffle)\n",
    "\n",
    "    num_train = int(len(docs) * perc_train)\n",
    "    docs_train = [docs[i].lower() for i in ndx_shuffle[:num_train]]\n",
    "    docs_test = [docs[i].lower() for i in ndx_shuffle[num_train:]]\n",
    "    successes_train = [successes[i] for i in ndx_shuffle[:num_train]]\n",
    "    successes_test = [successes[i] for i in ndx_shuffle[num_train:]]\n",
    "    ids_train = [ids[i] for i in ndx_shuffle[:num_train]]\n",
    "    ids_test = [ids[i] for i in ndx_shuffle[num_train:]]\n",
    "\n",
    "    return ids_train, ids_test, docs_train, docs_test, successes_train, successes_test\n",
    "\n",
    "\n",
    "def rm_punctuation(string, replacement='', exclude=\"'-'\"):\n",
    "    \"\"\"Remove punctuation from an input string \"\"\"\n",
    "    string = string.replace('-', ' ')  # Always replace hyphen with space\n",
    "    for p in set(list(punctuation)) - set(list(exclude)):\n",
    "        string = string.replace(p, replacement)\n",
    "\n",
    "    string = ' '.join(string.split())  # Remove excess whitespace\n",
    "    return string\n",
    "\n",
    "def train_classifier(\n",
    "        docs_success,\n",
    "        docs_background,\n",
    "        perc_train=1.0,\n",
    "        shuffle_data=True,\n",
    "        ngram_range=(1, 1),\n",
    "        filter_params={},\n",
    "        limit_data=None,\n",
    "        cross_val_folds=10\n",
    "):\n",
    "    \"\"\"\n",
    "    Train a classifier given the classification data in input_file.\n",
    "\n",
    "    @param perc_train: percentage of data points to train from input file (between 0 and 1). 0.4 by default.\n",
    "    @param shuffle_data: whether to shuffle the input data before training. True by default.\n",
    "    @return: the keywords and their corresponding coefficients as ndarrays, sorted by coefficient value.\n",
    "    \"\"\"\n",
    "\n",
    "    docs = docs_success + docs_background\n",
    "    successes = [1 for i in range(len(docs_success))] + [0 for j in range(len(docs_background))]\n",
    "    ids = range(len(docs))\n",
    "\n",
    "    # Remove punctuation from docs\n",
    "    docs = [rm_punctuation(str(_)) for _ in docs]\n",
    "\n",
    "    # Split data into training and test sets\n",
    "    ids_train, ids_test, docs_train, docs_test, y_train, y_test = \\\n",
    "        split_data(ids, docs, successes, perc_train, shuffle_data)\n",
    "\n",
    "    # Initialise vectorizer to convert text documents into matrix of token counts\n",
    "    vect = CountVectorizer(min_df=2, ngram_range=ngram_range, stop_words='english')\n",
    "    # Extract features from training dataset using sparse vectorizer\n",
    "    X_train = vect.fit_transform(docs_train)\n",
    "    print(\"LENGTH OF TEST DOCS\",len(docs_test))\n",
    "\n",
    "    # Logistic regression classifier\n",
    "    lr_classifier = LogisticRegression(penalty='l2')\n",
    "    if cross_val_folds > 0:\n",
    "        cv_precision = cross_val_score(lr_classifier, X_train, y_train, cv=cross_val_folds, scoring='precision')\n",
    "        cv_recall = cross_val_score(lr_classifier, X_train, y_train, cv=cross_val_folds, scoring='recall')\n",
    "        print(\"%d-fold cross validation scores:\\nPrecision:%.4f\\nRecall:%.4f\" %\n",
    "              (cross_val_folds, cv_precision.mean(), cv_recall.mean()))\n",
    "        pd.DataFrame([dict(precision=p, recal=r) for p, r in zip(cv_precision, cv_recall)\n",
    "                    ]).to_csv(\"cross_validation_metrics.csv\", index=False)\n",
    "\n",
    "    lr_classifier = LogisticRegression(penalty='l2').fit(X_train, y_train)\n",
    "    \n",
    "    def get_top_feats(feature_names, classifier, plot=True, N=10, bar_height=0.5):\n",
    "        \"\"\"Sort keywords by their coefficients\"\"\"\n",
    "        sorted_feats = np.argsort(classifier.coef_[0])  # Sorted by coefficients (descending)\n",
    "        sorted_coeffs = classifier.coef_[0][sorted_feats]\n",
    "\n",
    "        return sorted_feats, sorted_coeffs\n",
    "\n",
    "    features = np.array(vect.get_feature_names())\n",
    "    feat_ids, coeffs = get_top_feats(features, lr_classifier, plot=False, N=20)\n",
    "\n",
    "    if len(docs_test) > 0:\n",
    "        X_test = vect.transform(docs_test)\n",
    "        # Predict test data\n",
    "        y_test_predicted = lr_classifier.predict(X_test)\n",
    "\n",
    "        print('Classifier has precision %.3f and recall %.3f' % \\\n",
    "            (metrics.precision_score(y_test, y_test_predicted),\n",
    "            metrics.recall_score(y_test, y_test_predicted)))\n",
    "\n",
    "        # Examples of misclassified positives/negatives\n",
    "        positive_misses = [docs_test[i] for i in range(len(docs_test)) if (y_test[i] and not y_test_predicted[i])]\n",
    "        negative_misses = [docs_test[i] for i in range(len(docs_test)) if (not y_test[i] and y_test_predicted[i])]\n",
    "\n",
    "        print('\\nSome positive misses:')\n",
    "\n",
    "        for i in range(5):\n",
    "            try:\n",
    "                print(str(i+1) + ') ' + positive_misses[i] + \"\\n\")\n",
    "            except IndexError:\n",
    "                break\n",
    "\n",
    "        print('\\nSome negative misses:')\n",
    "        for i in range(5):\n",
    "            try:\n",
    "                print(str(i+1) + ') ' + negative_misses[i] + \"\\n\")\n",
    "            except IndexError:\n",
    "                break\n",
    "        print('')\n",
    "\n",
    "    return features[feat_ids], coeffs, lr_classifier, vect"
   ]
  },
  {
   "cell_type": "code",
   "execution_count": 59,
   "metadata": {
    "collapsed": false
   },
   "outputs": [
    {
     "name": "stdout",
     "output_type": "stream",
     "text": [
      "LENGTH OF TEST DOCS 0\n",
      "10-fold cross validation scores:\n",
      "Precision:0.9483\n",
      "Recall:0.9556\n"
     ]
    }
   ],
   "source": [
    "features, coefficients, model, vect = train_classifier(\n",
    "    positives,\n",
    "    negatives[:2000],\n",
    "    perc_train=1.0,\n",
    "    ngram_range=(1, 3),\n",
    "    cross_val_folds=10\n",
    ")"
   ]
  },
  {
   "cell_type": "code",
   "execution_count": 60,
   "metadata": {
    "collapsed": false
   },
   "outputs": [
    {
     "name": "stdout",
     "output_type": "stream",
     "text": [
      "\n",
      "Bottom features\n",
      "water -0.912787291803\n",
      "host -0.740907633041\n",
      "ecological -0.692803071195\n",
      "marine -0.626999316566\n",
      "reported -0.611649865936\n",
      "concentrations -0.608082138246\n",
      "health -0.596875865228\n",
      "development -0.590329188653\n",
      "paper -0.589969479913\n",
      "genetic -0.58407576602\n",
      "\n",
      "Top features\n",
      "native 0.482693777895\n",
      "spawning 0.499944187609\n",
      "trends 0.501204318287\n",
      "fishing 0.509631048264\n",
      "habitat 0.51987665516\n",
      "conservation 0.534402804678\n",
      "nesting 0.546626345317\n",
      "population 0.593140078847\n",
      "decline 0.632559515068\n",
      "abundance 0.687061499621\n"
     ]
    }
   ],
   "source": [
    "print(\"\\nBottom features\")\n",
    "for f,c in list(zip(features,coefficients))[:10]:\n",
    "    print(f,c)\n",
    "    \n",
    "print(\"\\nTop features\")\n",
    "for f,c in list(zip(features,coefficients))[-10:]:\n",
    "    print(f,c)"
   ]
  },
  {
   "cell_type": "code",
   "execution_count": 61,
   "metadata": {
    "collapsed": false
   },
   "outputs": [
    {
     "data": {
      "text/plain": [
       "['models/lpi_LR_model.pkl']"
      ]
     },
     "execution_count": 61,
     "metadata": {},
     "output_type": "execute_result"
    }
   ],
   "source": [
    "# Save model\n",
    "from sklearn.externals import joblib\n",
    "\n",
    "joblib.dump(vect, \"models/%s_LR_vectorizer.pkl\" % (DATASET.lower()), compress=1)\n",
    "joblib.dump(model, \"models/%s_LR_model.pkl\" % (DATASET.lower()), compress=1)"
   ]
  },
  {
   "cell_type": "code",
   "execution_count": 23,
   "metadata": {
    "collapsed": false
   },
   "outputs": [
    {
     "data": {
      "text/plain": [
       "LogisticRegression(C=1.0, class_weight=None, dual=False, fit_intercept=True,\n",
       "          intercept_scaling=1, max_iter=100, multi_class='ovr', n_jobs=1,\n",
       "          penalty='l2', random_state=None, solver='liblinear', tol=0.0001,\n",
       "          verbose=0, warm_start=False)"
      ]
     },
     "execution_count": 23,
     "metadata": {},
     "output_type": "execute_result"
    }
   ],
   "source": [
    "joblib.load(\"models/%s_LR_model.pkl\" % (DATASET.lower()))"
   ]
  },
  {
   "cell_type": "code",
   "execution_count": 32,
   "metadata": {
    "collapsed": false
   },
   "outputs": [],
   "source": [
    "plos_abstracts = pd.read_csv(\"PLoS_One/all_abstracts.csv\")"
   ]
  },
  {
   "cell_type": "code",
   "execution_count": 34,
   "metadata": {
    "collapsed": false
   },
   "outputs": [
    {
     "data": {
      "text/html": [
       "<div>\n",
       "<table border=\"1\" class=\"dataframe\">\n",
       "  <thead>\n",
       "    <tr style=\"text-align: right;\">\n",
       "      <th></th>\n",
       "      <th>Unnamed: 0</th>\n",
       "      <th>abstract</th>\n",
       "      <th>file</th>\n",
       "      <th>lpi_probability</th>\n",
       "    </tr>\n",
       "  </thead>\n",
       "  <tbody>\n",
       "    <tr>\n",
       "      <th>0</th>\n",
       "      <td>0</td>\n",
       "      <td>Invasive candidiases are life threatening oppo...</td>\n",
       "      <td>PLoS_One_2013_Jul_23_8(7)_e69664.txt</td>\n",
       "      <td>0.268799</td>\n",
       "    </tr>\n",
       "    <tr>\n",
       "      <th>1</th>\n",
       "      <td>1</td>\n",
       "      <td>Multiple sclerosis (MS) is a chronic inflammat...</td>\n",
       "      <td>PLoS_One_2011_Oct_20_6(10)_e26262.txt</td>\n",
       "      <td>0.000257</td>\n",
       "    </tr>\n",
       "    <tr>\n",
       "      <th>2</th>\n",
       "      <td>2</td>\n",
       "      <td>There is a strong ongoing debate on the catego...</td>\n",
       "      <td>PLoS_One_2012_Feb_17_7(2)_e30727.txt</td>\n",
       "      <td>0.002204</td>\n",
       "    </tr>\n",
       "    <tr>\n",
       "      <th>3</th>\n",
       "      <td>3</td>\n",
       "      <td>Assay of the T cell response to antigens of My...</td>\n",
       "      <td>PLoS_One_2013_Aug_8_8(8)_e71351.txt</td>\n",
       "      <td>0.006375</td>\n",
       "    </tr>\n",
       "    <tr>\n",
       "      <th>4</th>\n",
       "      <td>4</td>\n",
       "      <td>Motor disability is one of the most common def...</td>\n",
       "      <td>PLoS_One_2014_Jan_8_9(1)_e84729.txt</td>\n",
       "      <td>0.010826</td>\n",
       "    </tr>\n",
       "  </tbody>\n",
       "</table>\n",
       "</div>"
      ],
      "text/plain": [
       "   Unnamed: 0                                           abstract  \\\n",
       "0           0  Invasive candidiases are life threatening oppo...   \n",
       "1           1  Multiple sclerosis (MS) is a chronic inflammat...   \n",
       "2           2  There is a strong ongoing debate on the catego...   \n",
       "3           3  Assay of the T cell response to antigens of My...   \n",
       "4           4  Motor disability is one of the most common def...   \n",
       "\n",
       "                                    file  lpi_probability  \n",
       "0   PLoS_One_2013_Jul_23_8(7)_e69664.txt         0.268799  \n",
       "1  PLoS_One_2011_Oct_20_6(10)_e26262.txt         0.000257  \n",
       "2   PLoS_One_2012_Feb_17_7(2)_e30727.txt         0.002204  \n",
       "3    PLoS_One_2013_Aug_8_8(8)_e71351.txt         0.006375  \n",
       "4    PLoS_One_2014_Jan_8_9(1)_e84729.txt         0.010826  "
      ]
     },
     "execution_count": 34,
     "metadata": {},
     "output_type": "execute_result"
    }
   ],
   "source": [
    "plos_abstracts[\"lpi_probability\"] = model.predict_proba(vect.transform(\n",
    "        [rm_punctuation(str(a)) for a in plos_abstracts.abstract.values]))[:,1]\n",
    "plos_abstracts.head()"
   ]
  },
  {
   "cell_type": "code",
   "execution_count": 36,
   "metadata": {
    "collapsed": false
   },
   "outputs": [
    {
     "data": {
      "text/html": [
       "<div>\n",
       "<table border=\"1\" class=\"dataframe\">\n",
       "  <thead>\n",
       "    <tr style=\"text-align: right;\">\n",
       "      <th></th>\n",
       "      <th>Unnamed: 0</th>\n",
       "      <th>abstract</th>\n",
       "      <th>file</th>\n",
       "      <th>lpi_probability</th>\n",
       "      <th>doi</th>\n",
       "    </tr>\n",
       "  </thead>\n",
       "  <tbody>\n",
       "    <tr>\n",
       "      <th>0</th>\n",
       "      <td>0</td>\n",
       "      <td>Invasive candidiases are life threatening oppo...</td>\n",
       "      <td>PLoS_One_2013_Jul_23_8(7)_e69664.txt</td>\n",
       "      <td>0.268799</td>\n",
       "      <td>http://dx.doi.org/10.1371/journal.pone.69664</td>\n",
       "    </tr>\n",
       "    <tr>\n",
       "      <th>1</th>\n",
       "      <td>1</td>\n",
       "      <td>Multiple sclerosis (MS) is a chronic inflammat...</td>\n",
       "      <td>PLoS_One_2011_Oct_20_6(10)_e26262.txt</td>\n",
       "      <td>0.000257</td>\n",
       "      <td>http://dx.doi.org/10.1371/journal.pone.26262</td>\n",
       "    </tr>\n",
       "    <tr>\n",
       "      <th>2</th>\n",
       "      <td>2</td>\n",
       "      <td>There is a strong ongoing debate on the catego...</td>\n",
       "      <td>PLoS_One_2012_Feb_17_7(2)_e30727.txt</td>\n",
       "      <td>0.002204</td>\n",
       "      <td>http://dx.doi.org/10.1371/journal.pone.30727</td>\n",
       "    </tr>\n",
       "    <tr>\n",
       "      <th>3</th>\n",
       "      <td>3</td>\n",
       "      <td>Assay of the T cell response to antigens of My...</td>\n",
       "      <td>PLoS_One_2013_Aug_8_8(8)_e71351.txt</td>\n",
       "      <td>0.006375</td>\n",
       "      <td>http://dx.doi.org/10.1371/journal.pone.71351</td>\n",
       "    </tr>\n",
       "    <tr>\n",
       "      <th>4</th>\n",
       "      <td>4</td>\n",
       "      <td>Motor disability is one of the most common def...</td>\n",
       "      <td>PLoS_One_2014_Jan_8_9(1)_e84729.txt</td>\n",
       "      <td>0.010826</td>\n",
       "      <td>http://dx.doi.org/10.1371/journal.pone.84729</td>\n",
       "    </tr>\n",
       "  </tbody>\n",
       "</table>\n",
       "</div>"
      ],
      "text/plain": [
       "   Unnamed: 0                                           abstract  \\\n",
       "0           0  Invasive candidiases are life threatening oppo...   \n",
       "1           1  Multiple sclerosis (MS) is a chronic inflammat...   \n",
       "2           2  There is a strong ongoing debate on the catego...   \n",
       "3           3  Assay of the T cell response to antigens of My...   \n",
       "4           4  Motor disability is one of the most common def...   \n",
       "\n",
       "                                    file  lpi_probability  \\\n",
       "0   PLoS_One_2013_Jul_23_8(7)_e69664.txt         0.268799   \n",
       "1  PLoS_One_2011_Oct_20_6(10)_e26262.txt         0.000257   \n",
       "2   PLoS_One_2012_Feb_17_7(2)_e30727.txt         0.002204   \n",
       "3    PLoS_One_2013_Aug_8_8(8)_e71351.txt         0.006375   \n",
       "4    PLoS_One_2014_Jan_8_9(1)_e84729.txt         0.010826   \n",
       "\n",
       "                                            doi  \n",
       "0  http://dx.doi.org/10.1371/journal.pone.69664  \n",
       "1  http://dx.doi.org/10.1371/journal.pone.26262  \n",
       "2  http://dx.doi.org/10.1371/journal.pone.30727  \n",
       "3  http://dx.doi.org/10.1371/journal.pone.71351  \n",
       "4  http://dx.doi.org/10.1371/journal.pone.84729  "
      ]
     },
     "execution_count": 36,
     "metadata": {},
     "output_type": "execute_result"
    }
   ],
   "source": [
    "plos_abstracts[\"doi\"] = [\"http://dx.doi.org/10.1371/journal.pone.%s\" % (filename.split(\"e\")[-1].split(\".\")[0])\n",
    "                         for filename in plos_abstracts.file.values]\n",
    "plos_abstracts.head()"
   ]
  },
  {
   "cell_type": "code",
   "execution_count": 41,
   "metadata": {
    "collapsed": false
   },
   "outputs": [],
   "source": [
    "plos_abstracts[[\"file\", \"lpi_probability\"]].to_csv(\"PLoS_abstract_probabilities.csv\", index=False)"
   ]
  },
  {
   "cell_type": "code",
   "execution_count": 44,
   "metadata": {
    "collapsed": false
   },
   "outputs": [
    {
     "data": {
      "text/plain": [
       "35119     Proteins released in the blood-stream reflect ...\n",
       "78746     Most biomedical research projects are planned ...\n",
       "35794     Water transfer engineering has been used succe...\n",
       "91099     The generation of leachate remains an inevitab...\n",
       "28008     Monoclonal antibodies (mAbs) are among the lar...\n",
       "47969     Tyrosine kinase inhibitors (TKIs) are nowadays...\n",
       "59787     B-cell lymphomas are a species of lymphomas de...\n",
       "13580     The principal function of red blood cells (RBC...\n",
       "100234    The development of microfluidic platforms for ...\n",
       "103882    The viral proteins hijack cellular machinery b...\n",
       "108608    The insufficient availability of tissue donors...\n",
       "57755     Successful control of diabetes greatly depends...\n",
       "89017     On March 11, 2011, an earthquake of magnitude ...\n",
       "38968     Mine water remains one of the major problems o...\n",
       "13001     The association of Reactive Oxygen Species (RO...\n",
       "54452     Apoptosis is an intricate pathway triggered by...\n",
       "90580     Small chain alkylbenzenes are a class of toxic...\n",
       "107953    A ubiquitously present 64 kDa metal (Zn2+) con...\n",
       "12413     Metabolic activities play an important role in...\n",
       "70640     Hospital-acquired (nosocomial) infections pose...\n",
       "Name: abstract, dtype: object"
      ]
     },
     "execution_count": 44,
     "metadata": {},
     "output_type": "execute_result"
    }
   ],
   "source": [
    "plos_abstracts.sort_values(\"lpi_probability\").abstract.head(20)"
   ]
  },
  {
   "cell_type": "code",
   "execution_count": 45,
   "metadata": {
    "collapsed": false
   },
   "outputs": [
    {
     "data": {
      "text/plain": [
       "71024     The hangul, or Kashmir red deer (Cervus elaphu...\n",
       "76247     Non-breeding individuals can represent a subst...\n",
       "99664     Maintaining or increasing the population numbe...\n",
       "68194     The effects of predation on ungulate populatio...\n",
       "44837     Typically, fish species may be split into popu...\n",
       "8035      High fishing pressure can affect the size and ...\n",
       "116973    Over the past 2 centuries, several fur seal an...\n",
       "73822     Wetland quantity and quality are a primary con...\n",
       "22633     In summer and autumn, schools of Atlantic blue...\n",
       "52111     Estimating and monitoring bird populations are...\n",
       "86607     The reproductive biology of Atlantic bluefin t...\n",
       "26404     Knowledge of population and distribution is cr...\n",
       "6932      Animal distribution shifts in relation to glob...\n",
       "31089     Observed in many taxa, spatial population sync...\n",
       "39486     Baltic seals are recovering after a population...\n",
       "87398     Wildlife populations can compete with humans o...\n",
       "74183     A central tenet of population ecology is to id...\n",
       "52649     Genetic diversity, demography, and abundance –...\n",
       "78130     Orange roughy is a long-lived, low productivit...\n",
       "71049     Survival during the early life phase plays a c...\n",
       "Name: abstract, dtype: object"
      ]
     },
     "execution_count": 45,
     "metadata": {},
     "output_type": "execute_result"
    }
   ],
   "source": [
    "plos_abstracts.sort_values(\"lpi_probability\", ascending=False).abstract.head(20)"
   ]
  },
  {
   "cell_type": "code",
   "execution_count": null,
   "metadata": {
    "collapsed": true
   },
   "outputs": [],
   "source": []
  }
 ],
 "metadata": {
  "kernelspec": {
   "display_name": "Python 3",
   "language": "python",
   "name": "python3"
  },
  "language_info": {
   "codemirror_mode": {
    "name": "ipython",
    "version": 3
   },
   "file_extension": ".py",
   "mimetype": "text/x-python",
   "name": "python",
   "nbconvert_exporter": "python",
   "pygments_lexer": "ipython3",
   "version": "3.5.1"
  }
 },
 "nbformat": 4,
 "nbformat_minor": 0
}
